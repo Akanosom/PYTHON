{
  "cells": [
    {
      "cell_type": "code",
      "execution_count": 1,
      "metadata": {
        "colab": {
          "base_uri": "https://localhost:8080/"
        },
        "id": "y-bMQVKVNtct",
        "outputId": "9295f248-18c7-414f-951c-60bc8c1ae60e"
      },
      "outputs": [
        {
          "name": "stdout",
          "output_type": "stream",
          "text": [
            "Hello World\n"
          ]
        }
      ],
      "source": [
        "\n",
        "\n",
        "print('Hello World')"
      ]
    },
    {
      "cell_type": "code",
      "execution_count": 2,
      "metadata": {
        "id": "uS4Opec9Ok5f"
      },
      "outputs": [],
      "source": [
        "import numpy as np\n"
      ]
    },
    {
      "cell_type": "code",
      "execution_count": 8,
      "metadata": {
        "colab": {
          "base_uri": "https://localhost:8080/"
        },
        "id": "KbM3J9SuSDFh",
        "outputId": "65e26397-12e3-46d5-f32c-d040ff17e520"
      },
      "outputs": [
        {
          "name": "stdout",
          "output_type": "stream",
          "text": [
            "[[1 0]\n",
            " [0 1]]\n"
          ]
        }
      ],
      "source": [
        "b = [1, 0, 0, 1]\n",
        "a = np.array(b)\n",
        "a = a.reshape(2,2)\n",
        "print(a)"
      ]
    },
    {
      "cell_type": "code",
      "execution_count": 11,
      "metadata": {
        "colab": {
          "base_uri": "https://localhost:8080/"
        },
        "id": "5DYfl0WhVD4V",
        "outputId": "77583f23-da4a-4f74-835e-50f83b246bf5"
      },
      "outputs": [
        {
          "name": "stdout",
          "output_type": "stream",
          "text": [
            "{'Age': 21, 'Height': 1.8, 'Color': 'white'}\n"
          ]
        }
      ],
      "source": [
        "d = dict()\n",
        "d ={'Age': 20,\n",
        "    'Height': 1.7,\n",
        "    'Color': 'black',\n",
        "    }\n",
        "d['Age'] = 21\n",
        "d['Height'] = 1.8\n",
        "d['Color'] = 'white'\n",
        "print(d)"
      ]
    },
    {
      "cell_type": "code",
      "execution_count": 16,
      "metadata": {
        "colab": {
          "base_uri": "https://localhost:8080/"
        },
        "id": "WozHdMQwWqb9",
        "outputId": "094c63ad-aacd-4128-cfa2-21c4a112b61e"
      },
      "outputs": [
        {
          "name": "stdout",
          "output_type": "stream",
          "text": [
            "21\n"
          ]
        }
      ],
      "source": [
        "if 'Age' in d:\n",
        "  print(d['Age'])"
      ]
    },
    {
      "cell_type": "code",
      "execution_count": 19,
      "metadata": {
        "id": "5ZkYCg6gYuU6"
      },
      "outputs": [],
      "source": [
        "import matplotlib.pyplot as plt\n"
      ]
    },
    {
      "cell_type": "code",
      "execution_count": 1,
      "metadata": {
        "colab": {
          "base_uri": "https://localhost:8080/",
          "height": 430
        },
        "id": "gA5VEY6ZZW3A",
        "outputId": "a6383a99-4646-44e4-de6d-4a6bd3ac1e03"
      },
      "outputs": [
        {
          "ename": "NameError",
          "evalue": "name 'np' is not defined",
          "output_type": "error",
          "traceback": [
            "\u001b[1;31m---------------------------------------------------------------------------\u001b[0m",
            "\u001b[1;31mNameError\u001b[0m                                 Traceback (most recent call last)",
            "\u001b[1;32mc:\\Users\\aweso_4\\Downloads\\Telegram Desktop\\pythonClassWork.ipynb Cell 7\u001b[0m line \u001b[0;36m3\n\u001b[0;32m      <a href='vscode-notebook-cell:/c%3A/Users/aweso_4/Downloads/Telegram%20Desktop/pythonClassWork.ipynb#W6sZmlsZQ%3D%3D?line=0'>1</a>\u001b[0m x \u001b[39m=\u001b[39m [\u001b[39m1\u001b[39m, \u001b[39m2\u001b[39m, \u001b[39m3\u001b[39m, \u001b[39m4\u001b[39m, \u001b[39m5\u001b[39m, \u001b[39m8\u001b[39m]\n\u001b[0;32m      <a href='vscode-notebook-cell:/c%3A/Users/aweso_4/Downloads/Telegram%20Desktop/pythonClassWork.ipynb#W6sZmlsZQ%3D%3D?line=1'>2</a>\u001b[0m y \u001b[39m=\u001b[39m [\u001b[39m2\u001b[39m, \u001b[39m4\u001b[39m, \u001b[39m6\u001b[39m, \u001b[39m8\u001b[39m, \u001b[39m10\u001b[39m, \u001b[39m15\u001b[39m]\n\u001b[1;32m----> <a href='vscode-notebook-cell:/c%3A/Users/aweso_4/Downloads/Telegram%20Desktop/pythonClassWork.ipynb#W6sZmlsZQ%3D%3D?line=2'>3</a>\u001b[0m xp \u001b[39m=\u001b[39m np\u001b[39m.\u001b[39marray(x)\n\u001b[0;32m      <a href='vscode-notebook-cell:/c%3A/Users/aweso_4/Downloads/Telegram%20Desktop/pythonClassWork.ipynb#W6sZmlsZQ%3D%3D?line=3'>4</a>\u001b[0m yp \u001b[39m=\u001b[39m np\u001b[39m.\u001b[39marray(y)\n\u001b[0;32m      <a href='vscode-notebook-cell:/c%3A/Users/aweso_4/Downloads/Telegram%20Desktop/pythonClassWork.ipynb#W6sZmlsZQ%3D%3D?line=4'>5</a>\u001b[0m plt\u001b[39m.\u001b[39mplot(xp, yp)\n",
            "\u001b[1;31mNameError\u001b[0m: name 'np' is not defined"
          ]
        }
      ],
      "source": [
        "x = [1, 2, 3, 4, 5, 8]\n",
        "y = [2, 4, 6, 8, 10, 15]\n",
        "xp = np.array(x)\n",
        "yp = np.array(y)\n",
        "plt.plot(xp, yp)\n",
        "plt.show()"
      ]
    },
    {
      "cell_type": "code",
      "execution_count": 21,
      "metadata": {
        "id": "xSfMy8j1dXo_"
      },
      "outputs": [],
      "source": [
        "import pandas as pd\n"
      ]
    },
    {
      "cell_type": "code",
      "execution_count": 27,
      "metadata": {
        "colab": {
          "base_uri": "https://localhost:8080/"
        },
        "id": "ZeYNyf-IeTxL",
        "outputId": "37316e4c-0f06-4b99-f28e-42e218a537ba"
      },
      "outputs": [
        {
          "name": "stdout",
          "output_type": "stream",
          "text": [
            "   x   y\n",
            "0  1   2\n",
            "1  2   4\n",
            "2  3   6\n",
            "3  4   8\n",
            "4  5  10\n"
          ]
        }
      ],
      "source": [
        "data = {'x': [1,2,3,4,5], 'y': [2,4,6,8,10]}\n",
        "df = pd.DataFrame(data)\n",
        "print(df)"
      ]
    },
    {
      "cell_type": "code",
      "execution_count": 28,
      "metadata": {
        "colab": {
          "base_uri": "https://localhost:8080/"
        },
        "id": "veyiJDsejW3C",
        "outputId": "56edb060-883d-41ee-8513-042be42ec710"
      },
      "outputs": [
        {
          "name": "stdout",
          "output_type": "stream",
          "text": [
            "[[ 1  2]\n",
            " [ 2  4]\n",
            " [ 3  6]\n",
            " [ 4  8]\n",
            " [ 5 10]]\n"
          ]
        }
      ],
      "source": [
        "a = df.to_numpy()\n",
        "print(a)"
      ]
    },
    {
      "cell_type": "code",
      "execution_count": 29,
      "metadata": {
        "colab": {
          "base_uri": "https://localhost:8080/"
        },
        "id": "A3KHH9bHlRDy",
        "outputId": "93749231-90f3-4c17-a196-9f976a745595"
      },
      "outputs": [
        {
          "data": {
            "text/plain": [
              "array([[ 1,  2],\n",
              "       [ 2,  4],\n",
              "       [ 3,  6],\n",
              "       [ 4,  8],\n",
              "       [ 5, 10]])"
            ]
          },
          "execution_count": 29,
          "metadata": {},
          "output_type": "execute_result"
        }
      ],
      "source": [
        "a.reshape(2,5)\n",
        "a.reshape(5,2)"
      ]
    }
  ],
  "metadata": {
    "colab": {
      "provenance": []
    },
    "kernelspec": {
      "display_name": "Python 3",
      "name": "python3"
    },
    "language_info": {
      "codemirror_mode": {
        "name": "ipython",
        "version": 3
      },
      "file_extension": ".py",
      "mimetype": "text/x-python",
      "name": "python",
      "nbconvert_exporter": "python",
      "pygments_lexer": "ipython3",
      "version": "3.12.0"
    }
  },
  "nbformat": 4,
  "nbformat_minor": 0
}

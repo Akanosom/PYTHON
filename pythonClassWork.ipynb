{
  "cells": [
    {
      "cell_type": "code",
      "execution_count": 22,
      "metadata": {
        "colab": {
          "base_uri": "https://localhost:8080/"
        },
        "id": "y-bMQVKVNtct",
        "outputId": "9295f248-18c7-414f-951c-60bc8c1ae60e"
      },
      "outputs": [
        {
          "name": "stdout",
          "output_type": "stream",
          "text": [
            "Hello\n"
          ]
        }
      ],
      "source": [
        "\n",
        "\n",
        "print('Hello')"
      ]
    },
    {
      "cell_type": "code",
      "execution_count": 23,
      "metadata": {
        "id": "uS4Opec9Ok5f"
      },
      "outputs": [],
      "source": [
        "import numpy as np\n"
      ]
    },
    {
      "cell_type": "code",
      "execution_count": 25,
      "metadata": {
        "colab": {
          "base_uri": "https://localhost:8080/"
        },
        "id": "KbM3J9SuSDFh",
        "outputId": "65e26397-12e3-46d5-f32c-d040ff17e520"
      },
      "outputs": [
        {
          "name": "stdout",
          "output_type": "stream",
          "text": [
            "[[1 0]\n",
            " [0 1]]\n"
          ]
        }
      ],
      "source": [
        "b = [1, 0, 0, 1]\n",
        "a = np.array(b)\n",
        "a = a.reshape(2,2)\n",
        "print(a)"
      ]
    },
    {
      "cell_type": "code",
      "execution_count": 29,
      "metadata": {
        "colab": {
          "base_uri": "https://localhost:8080/"
        },
        "id": "5DYfl0WhVD4V",
        "outputId": "77583f23-da4a-4f74-835e-50f83b246bf5"
      },
      "outputs": [
        {
          "name": "stdout",
          "output_type": "stream",
          "text": [
            "{'Age': 18, 'Height': 4.8, 'Color': 'white'}\n"
          ]
        }
      ],
      "source": [
        "d = dict()\n",
        "d ={'Age': 28,\n",
        "    'Height': 6.7,\n",
        "    'Color': 'black',\n",
        "    }\n",
        "d['Age'] = 18\n",
        "d['Height'] = 4.8\n",
        "d['Color'] = 'white'\n",
        "print(d)"
      ]
    },
    {
      "cell_type": "code",
      "execution_count": 30,
      "metadata": {
        "colab": {
          "base_uri": "https://localhost:8080/"
        },
        "id": "WozHdMQwWqb9",
        "outputId": "094c63ad-aacd-4128-cfa2-21c4a112b61e"
      },
      "outputs": [
        {
          "name": "stdout",
          "output_type": "stream",
          "text": [
            "18\n"
          ]
        }
      ],
      "source": [
        "if 'Age' in d:\n",
        "  print(d['Age'])"
      ]
    },
    {
      "cell_type": "code",
      "execution_count": 16,
      "metadata": {
        "id": "5ZkYCg6gYuU6"
      },
      "outputs": [],
      "source": [
        "import matplotlib.pyplot as plt\n"
      ]
    },
    {
      "cell_type": "code",
      "execution_count": 21,
      "metadata": {
        "colab": {
          "base_uri": "https://localhost:8080/",
          "height": 430
        },
        "id": "gA5VEY6ZZW3A",
        "outputId": "a6383a99-4646-44e4-de6d-4a6bd3ac1e03"
      },
      "outputs": [
        {
          "data": {
            "image/png": "[encoded data removed]",
            "text/plain": [
              "<Figure size 640x480 with 1 Axes>"
            ]
          },
          "metadata": {},
          "output_type": "display_data"
        }
      ],
      "source": [
        "x = [6, 3,2, 1]\n",
        "y = [2, 4, 6, 8]\n",
        "xp = np.array(x)\n",
        "yp = np.array(y)\n",
        "plt.plot(xp, yp)\n",
        "plt.show()"
      ]
    },
    {
      "cell_type": "code",
      "execution_count": 31,
      "metadata": {
        "id": "xSfMy8j1dXo_"
      },
      "outputs": [],
      "source": [
        "import pandas as pd\n"
      ]
    },
    {
      "cell_type": "code",
      "execution_count": 32,
      "metadata": {
        "colab": {
          "base_uri": "https://localhost:8080/"
        },
        "id": "ZeYNyf-IeTxL",
        "outputId": "37316e4c-0f06-4b99-f28e-42e218a537ba"
      },
      "outputs": [
        {
          "name": "stdout",
          "output_type": "stream",
          "text": [
            "   x   y\n",
            "0  1   2\n",
            "1  2   4\n",
            "2  3   6\n",
            "3  4   8\n",
            "4  5  10\n"
          ]
        }
      ],
      "source": [
        "data = {'x': [1,2,3,4,5], 'y': [2,4,6,8,10]}\n",
        "df = pd.DataFrame(data)\n",
        "print(df)"
      ]
    },
    {
      "cell_type": "code",
      "execution_count": 28,
      "metadata": {
        "colab": {
          "base_uri": "https://localhost:8080/"
        },
        "id": "veyiJDsejW3C",
        "outputId": "56edb060-883d-41ee-8513-042be42ec710"
      },
      "outputs": [
        {
          "name": "stdout",
          "output_type": "stream",
          "text": [
            "[[ 1  2]\n",
            " [ 2  4]\n",
            " [ 3  6]\n",
            " [ 4  8]\n",
            " [ 5 10]]\n"
          ]
        }
      ],
      "source": [
        "a = df.to_numpy()\n",
        "print(a)"
      ]
    },
    {
      "cell_type": "code",
      "execution_count": 29,
      "metadata": {
        "colab": {
          "base_uri": "https://localhost:8080/"
        },
        "id": "A3KHH9bHlRDy",
        "outputId": "93749231-90f3-4c17-a196-9f976a745595"
      },
      "outputs": [
        {
          "data": {
            "text/plain": [
              "array([[ 1,  2],\n",
              "       [ 2,  4],\n",
              "       [ 3,  6],\n",
              "       [ 4,  8],\n",
              "       [ 5, 10]])"
            ]
          },
          "execution_count": 29,
          "metadata": {},
          "output_type": "execute_result"
        }
      ],
      "source": [
        "a.reshape(2,5)\n",
        "a.reshape(5,2)"
      ]
    }
  ],
  "metadata": {
    "colab": {
      "provenance": []
    },
    "kernelspec": {
      "display_name": "Python 3",
      "name": "python3"
    },
    "language_info": {
      "codemirror_mode": {
        "name": "ipython",
        "version": 3
      },
      "file_extension": ".py",
      "mimetype": "text/x-python",
      "name": "python",
      "nbconvert_exporter": "python",
      "pygments_lexer": "ipython3",
      "version": "3.12.0"
    }
  },
  "nbformat": 4,
  "nbformat_minor": 0
}
